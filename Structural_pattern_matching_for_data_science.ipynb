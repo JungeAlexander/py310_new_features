{
 "cells": [
  {
   "cell_type": "markdown",
   "id": "a6f82a42-d83e-402c-8af4-7075a02e73e8",
   "metadata": {},
   "source": [
    "# Structural pattern matching for data science"
   ]
  },
  {
   "cell_type": "markdown",
   "id": "c4d09add-d4e0-4877-a48d-982c9f37f0d0",
   "metadata": {},
   "source": [
    "## Matching a string to parse malformatted CSV format"
   ]
  },
  {
   "cell_type": "markdown",
   "id": "82a64ebe-1896-4976-b342-5855acf7c068",
   "metadata": {},
   "source": [
    "Messy data is everywhere. Let's say we have a string, `bad_csv`, in malformatted CSV format which, for example, could have been read from a file and looks like this:"
   ]
  },
  {
   "cell_type": "code",
   "execution_count": 1,
   "id": "e4b4bb71-8ed8-4726-ade8-1a85f18c04e0",
   "metadata": {},
   "outputs": [],
   "source": [
    "bad_csv = \"\"\"\n",
    "0,1,2\n",
    "1,2,3\n",
    "1,2\n",
    "0\n",
    "1\n",
    "\"\"\""
   ]
  },
  {
   "cell_type": "markdown",
   "id": "0ac891e5-eab8-43ec-80d1-85fa09767d73",
   "metadata": {},
   "source": [
    "We now want to convert `bad_csv` to a rectangular list of lists according to the following rules:\n",
    "\n",
    "- keep lines with three values\n",
    "- for lines with two values only, add a `None`\n",
    "- skip empty lines\n",
    "- for lines with one value is a 1, add 2 and 3\n",
    "- for lines with one value that is not a 1, add None and None\n",
    "\n",
    "This can easily translated into a structural pattern matching expression:"
   ]
  },
  {
   "cell_type": "code",
   "execution_count": 2,
   "id": "709cefa1-0d4b-4c04-8abb-4cf805b4852a",
   "metadata": {},
   "outputs": [],
   "source": [
    "values = []\n",
    "for line in bad_csv.split(\"\\n\"):\n",
    "    match line.split(\",\"):\n",
    "        case [x, y, z]:\n",
    "            values.append([x, y, z])\n",
    "        case [x, y]:\n",
    "            values.append([x, y, None])\n",
    "        case [\"\"]:\n",
    "            continue\n",
    "        case [\"1\"]:\n",
    "             values.append([1, 2, 3])\n",
    "        case [x]:\n",
    "            values.append([x, None, None])\n",
    "        case _:  # always matches\n",
    "            raise Exception(\"This should not happen as we want to handle every case explicitely.\")"
   ]
  },
  {
   "cell_type": "markdown",
   "id": "722cae1b-d0c7-4dac-982b-9171c7e6c3d1",
   "metadata": {},
   "source": [
    "For comparison, doing the above with if-else blocks would involve repeated calls of `len(line.split(\",\"))` which is harder to understand."
   ]
  },
  {
   "cell_type": "code",
   "execution_count": 3,
   "id": "ac87ed0d-7a35-46eb-8526-95a2a91cd92a",
   "metadata": {},
   "outputs": [
    {
     "data": {
      "text/plain": [
       "[['0', '1', '2'],\n",
       " ['1', '2', '3'],\n",
       " ['1', '2', None],\n",
       " ['0', None, None],\n",
       " [1, 2, 3]]"
      ]
     },
     "execution_count": 3,
     "metadata": {},
     "output_type": "execute_result"
    }
   ],
   "source": [
    "values"
   ]
  },
  {
   "cell_type": "markdown",
   "id": "c5a35262-1755-4705-a095-ef6679740e05",
   "metadata": {},
   "source": [
    "Note that the order of the cases matters and that there is no fall-through once a case matches.\n",
    "Compare"
   ]
  },
  {
   "cell_type": "code",
   "execution_count": 4,
   "id": "8560b571-3f8c-4760-b2fd-ea2eb91ba8e8",
   "metadata": {},
   "outputs": [
    {
     "name": "stdout",
     "output_type": "stream",
     "text": [
      "x\n"
     ]
    }
   ],
   "source": [
    "match [\"a\"]:\n",
    "    case [x]:\n",
    "        print(\"x\")\n",
    "    case [\"a\"]:\n",
    "        print(\"a\")"
   ]
  },
  {
   "cell_type": "markdown",
   "id": "038a4570-74b7-4b50-ad12-184c53830493",
   "metadata": {},
   "source": [
    "to"
   ]
  },
  {
   "cell_type": "code",
   "execution_count": 5,
   "id": "0196b363-717d-434c-bcea-ae788667ee5b",
   "metadata": {},
   "outputs": [
    {
     "name": "stdout",
     "output_type": "stream",
     "text": [
      "a\n"
     ]
    }
   ],
   "source": [
    "match [\"a\"]:\n",
    "    case [\"a\"]:\n",
    "        print(\"a\")\n",
    "    case [x]:\n",
    "        print(\"x\")"
   ]
  },
  {
   "cell_type": "markdown",
   "id": "2bcee9f5-0fb6-4464-b73c-a0e0053dd7fd",
   "metadata": {},
   "source": [
    "Before going all-in on structural pattern matching, note that the the popular code formatter **black does not support reformating structural pattern matching and fails with an error when encountering such a construct** at the time of this writing."
   ]
  },
  {
   "cell_type": "markdown",
   "id": "e427e60a-2493-4b9c-ae07-203d91e40d78",
   "metadata": {},
   "source": [
    "TODO: can case expressions be nested?"
   ]
  },
  {
   "cell_type": "code",
   "execution_count": 7,
   "id": "ec287f5a-5e96-4c99-8735-415de89fb518",
   "metadata": {},
   "outputs": [
    {
     "ename": "SyntaxError",
     "evalue": "invalid syntax (1997687921.py, line 9)",
     "output_type": "error",
     "traceback": [
      "\u001b[0;36m  File \u001b[0;32m\"/var/folders/mg/r083n6wj6j96rqwrrf2v6_r80000gn/T/ipykernel_44128/1997687921.py\"\u001b[0;36m, line \u001b[0;32m9\u001b[0m\n\u001b[0;31m    case [\"\"]:\u001b[0m\n\u001b[0m              ^\u001b[0m\n\u001b[0;31mSyntaxError\u001b[0m\u001b[0;31m:\u001b[0m invalid syntax\n"
     ]
    }
   ],
   "source": [
    "values = []\n",
    "for line in bad_csv.split(\"\\n\"):\n",
    "    match line.split(\",\"):\n",
    "        case [x, y, z]:\n",
    "            values.append([x, y, z])\n",
    "        case [x, y]:\n",
    "            values.append([x, y, None])\n",
    "        case [x]:\n",
    "            case [\"\"]:\n",
    "                continue\n",
    "            case [\"1\"]:\n",
    "                 values.append([1, 2, 3])\n",
    "        case [x]:\n",
    "            values.append([x, None, None])\n",
    "        case _:  # always matches\n",
    "            raise Exception(\"This should not happen as we want to handle every case explicitely.\")"
   ]
  },
  {
   "cell_type": "markdown",
   "id": "3ebd1a9d-835d-4be5-a2e8-0ff74b0dc64b",
   "metadata": {},
   "source": [
    "## Matching a dataclass"
   ]
  },
  {
   "cell_type": "code",
   "execution_count": 6,
   "id": "9ed2ea2f-dbdf-4992-a8ba-fca1fd0d7de6",
   "metadata": {},
   "outputs": [],
   "source": [
    "from dataclasses import dataclass"
   ]
  },
  {
   "cell_type": "markdown",
   "id": "e336bbc1-d032-443d-be69-dc2853894195",
   "metadata": {},
   "source": [
    "## Matching a REST response"
   ]
  },
  {
   "cell_type": "code",
   "execution_count": null,
   "id": "ef777a71-72d5-4dee-bd17-1de865c2a2d3",
   "metadata": {},
   "outputs": [],
   "source": []
  },
  {
   "cell_type": "markdown",
   "id": "62a4bf45-6dd4-4a10-a19c-b065a456b866",
   "metadata": {},
   "source": [
    "## Matching a pandas DataFrame"
   ]
  },
  {
   "cell_type": "code",
   "execution_count": 6,
   "id": "e39d5069-323f-4698-860d-6ce2f5c4ab6b",
   "metadata": {},
   "outputs": [],
   "source": [
    "# TODO"
   ]
  },
  {
   "cell_type": "markdown",
   "id": "39ac6303-0fa6-4f44-b3a5-8c232a7ab887",
   "metadata": {},
   "source": [
    "## Matching a scikit-learn model"
   ]
  },
  {
   "cell_type": "code",
   "execution_count": 7,
   "id": "be85c947-adae-480d-9a0a-cfe6ecd742ca",
   "metadata": {},
   "outputs": [],
   "source": [
    "# TODO"
   ]
  },
  {
   "cell_type": "markdown",
   "id": "cf7f7d11-cb63-402a-9e06-1cc12f020bdf",
   "metadata": {},
   "source": [
    "## Matching a keras model"
   ]
  },
  {
   "cell_type": "code",
   "execution_count": 7,
   "id": "434cf21c-9daa-4eb6-9db0-33989efc00a8",
   "metadata": {},
   "outputs": [],
   "source": [
    "# TODO"
   ]
  },
  {
   "cell_type": "markdown",
   "id": "114d0bff-aab6-4a55-8854-34c4e5bb80f4",
   "metadata": {},
   "source": [
    "## Further reading\n",
    "\n",
    "[PEP 636 -- Structural Pattern Matching: Tutorial](https://www.python.org/dev/peps/pep-0636/)"
   ]
  }
 ],
 "metadata": {
  "kernelspec": {
   "display_name": "Python 3 (ipykernel)",
   "language": "python",
   "name": "python3"
  },
  "language_info": {
   "codemirror_mode": {
    "name": "ipython",
    "version": 3
   },
   "file_extension": ".py",
   "mimetype": "text/x-python",
   "name": "python",
   "nbconvert_exporter": "python",
   "pygments_lexer": "ipython3",
   "version": "3.10.0"
  }
 },
 "nbformat": 4,
 "nbformat_minor": 5
}
