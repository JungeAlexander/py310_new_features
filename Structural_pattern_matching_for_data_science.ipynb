{
 "cells": [
  {
   "cell_type": "markdown",
   "id": "a6f82a42-d83e-402c-8af4-7075a02e73e8",
   "metadata": {},
   "source": [
    "# Structural pattern matching for data science"
   ]
  },
  {
   "cell_type": "markdown",
   "id": "b4f69ddb-a226-426d-98e0-937981fce2bc",
   "metadata": {},
   "source": [
    "## Matching a list"
   ]
  },
  {
   "cell_type": "code",
   "execution_count": null,
   "id": "e062ef7d-e150-41fc-ae6d-0ca5da5784fc",
   "metadata": {},
   "outputs": [],
   "source": []
  },
  {
   "cell_type": "markdown",
   "id": "3ebd1a9d-835d-4be5-a2e8-0ff74b0dc64b",
   "metadata": {},
   "source": [
    "## Matching a dataclass"
   ]
  },
  {
   "cell_type": "code",
   "execution_count": null,
   "id": "9ed2ea2f-dbdf-4992-a8ba-fca1fd0d7de6",
   "metadata": {},
   "outputs": [],
   "source": []
  },
  {
   "cell_type": "markdown",
   "id": "e336bbc1-d032-443d-be69-dc2853894195",
   "metadata": {},
   "source": [
    "## Matching a REST response"
   ]
  },
  {
   "cell_type": "code",
   "execution_count": null,
   "id": "ef777a71-72d5-4dee-bd17-1de865c2a2d3",
   "metadata": {},
   "outputs": [],
   "source": []
  },
  {
   "cell_type": "markdown",
   "id": "62a4bf45-6dd4-4a10-a19c-b065a456b866",
   "metadata": {},
   "source": [
    "## Matching a pandas DataFrame"
   ]
  },
  {
   "cell_type": "code",
   "execution_count": null,
   "id": "e39d5069-323f-4698-860d-6ce2f5c4ab6b",
   "metadata": {},
   "outputs": [],
   "source": []
  },
  {
   "cell_type": "markdown",
   "id": "39ac6303-0fa6-4f44-b3a5-8c232a7ab887",
   "metadata": {},
   "source": [
    "## Matching a scikit-learn model"
   ]
  },
  {
   "cell_type": "code",
   "execution_count": null,
   "id": "be85c947-adae-480d-9a0a-cfe6ecd742ca",
   "metadata": {},
   "outputs": [],
   "source": []
  },
  {
   "cell_type": "markdown",
   "id": "114d0bff-aab6-4a55-8854-34c4e5bb80f4",
   "metadata": {},
   "source": [
    "## Further reading\n",
    "\n",
    "[PEP 636 -- Structural Pattern Matching: Tutorial](https://www.python.org/dev/peps/pep-0636/)"
   ]
  }
 ],
 "metadata": {
  "kernelspec": {
   "display_name": "Python 3 (ipykernel)",
   "language": "python",
   "name": "python3"
  },
  "language_info": {
   "codemirror_mode": {
    "name": "ipython",
    "version": 3
   },
   "file_extension": ".py",
   "mimetype": "text/x-python",
   "name": "python",
   "nbconvert_exporter": "python",
   "pygments_lexer": "ipython3",
   "version": "3.10.0"
  }
 },
 "nbformat": 4,
 "nbformat_minor": 5
}
